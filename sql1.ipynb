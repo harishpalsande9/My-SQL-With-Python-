{
 "cells": [
  {
   "cell_type": "code",
   "execution_count": 1,
   "id": "306c88f9",
   "metadata": {},
   "outputs": [
    {
     "name": "stdout",
     "output_type": "stream",
     "text": [
      "Collecting mysql-connector-python\n",
      "  Downloading mysql_connector_python-8.0.29-cp39-cp39-win_amd64.whl (7.7 MB)\n",
      "Requirement already satisfied: protobuf>=3.0.0 in c:\\users\\haric\\anaconda3\\lib\\site-packages (from mysql-connector-python) (3.19.1)\n",
      "Installing collected packages: mysql-connector-python\n",
      "Successfully installed mysql-connector-python-8.0.29\n",
      "Note: you may need to restart the kernel to use updated packages.\n"
     ]
    }
   ],
   "source": [
    "pip install mysql-connector-python"
   ]
  },
  {
   "cell_type": "code",
   "execution_count": 8,
   "id": "40450f12",
   "metadata": {},
   "outputs": [],
   "source": [
    "import  mysql.connector as connection"
   ]
  },
  {
   "cell_type": "code",
   "execution_count": 14,
   "id": "c42588bc",
   "metadata": {},
   "outputs": [],
   "source": [
    "conn = connection.connect(host = \"localhost\" , user=\"root\" , passwd=\"Root@123\" , use_pure=True)"
   ]
  },
  {
   "cell_type": "code",
   "execution_count": 16,
   "id": "8fd6e82a",
   "metadata": {},
   "outputs": [],
   "source": [
    "cur = conn.cursor()\n"
   ]
  },
  {
   "cell_type": "code",
   "execution_count": 17,
   "id": "7c2c9747",
   "metadata": {},
   "outputs": [],
   "source": [
    "cur.execute(\"show databases\")"
   ]
  },
  {
   "cell_type": "code",
   "execution_count": 18,
   "id": "f1153002",
   "metadata": {},
   "outputs": [
    {
     "data": {
      "text/plain": [
       "[('databaseone',),\n",
       " ('harish',),\n",
       " ('information_schema',),\n",
       " ('mysql',),\n",
       " ('performance_schema',),\n",
       " ('student_manage',),\n",
       " ('sys',)]"
      ]
     },
     "execution_count": 18,
     "metadata": {},
     "output_type": "execute_result"
    }
   ],
   "source": [
    "cur.fetchall()"
   ]
  },
  {
   "cell_type": "code",
   "execution_count": 22,
   "id": "f686be1e",
   "metadata": {},
   "outputs": [],
   "source": [
    "cur.execute(\"select * from harish.ineuron1\")"
   ]
  },
  {
   "cell_type": "code",
   "execution_count": 23,
   "id": "6790493d",
   "metadata": {},
   "outputs": [
    {
     "data": {
      "text/plain": [
       "[(101, 'Sanket Mane', 'sanket@gmail.com', 100, 30),\n",
       " (101, 'Sanket Mane', 'sanket@gmail.com', 100, 30),\n",
       " (101, 'Sanket Mane', 'sanket@gmail.com', 100, 30),\n",
       " (101, 'Sanket Mane', 'sanket@gmail.com', 100, 30),\n",
       " (101, 'Sanket Mane', 'sanket@gmail.com', 100, 30),\n",
       " (101, 'Sanket Mane', 'sanket@gmail.com', 100, 30),\n",
       " (101, 'Sanket Mane', 'sanket@gmail.com', 100, 30),\n",
       " (101, 'Sanket Mane', 'sanket@gmail.com', 100, 30),\n",
       " (101, 'Sanket Mane', 'sanket@gmail.com', 100, 30),\n",
       " (101, 'Sanket Mane', 'sanket@gmail.com', 100, 30)]"
      ]
     },
     "execution_count": 23,
     "metadata": {},
     "output_type": "execute_result"
    }
   ],
   "source": [
    "cur.fetchall()"
   ]
  },
  {
   "cell_type": "code",
   "execution_count": null,
   "id": "a538ab99",
   "metadata": {},
   "outputs": [],
   "source": []
  }
 ],
 "metadata": {
  "kernelspec": {
   "display_name": "Python 3 (ipykernel)",
   "language": "python",
   "name": "python3"
  },
  "language_info": {
   "codemirror_mode": {
    "name": "ipython",
    "version": 3
   },
   "file_extension": ".py",
   "mimetype": "text/x-python",
   "name": "python",
   "nbconvert_exporter": "python",
   "pygments_lexer": "ipython3",
   "version": "3.9.12"
  }
 },
 "nbformat": 4,
 "nbformat_minor": 5
}
